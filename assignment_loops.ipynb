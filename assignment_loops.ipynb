{
 "cells": [
  {
   "cell_type": "markdown",
   "id": "83ae6ddf-b712-436a-986c-81bf5eee992d",
   "metadata": {},
   "source": [
    "# Assignment"
   ]
  },
  {
   "cell_type": "markdown",
   "id": "93466af2-7d72-4e1e-b812-437a3040f16e",
   "metadata": {},
   "source": [
    "## Loop(s)"
   ]
  },
  {
   "cell_type": "markdown",
   "id": "2fd6fa41-f52b-40c8-9600-f47da041553b",
   "metadata": {},
   "source": [
    "This is an assignment to showcase skills in Python iteration (loops) by using `for` and `while` loops to answer some questions."
   ]
  },
  {
   "cell_type": "markdown",
   "id": "9214a8c1-9f00-4c2b-b3b9-bff0849e8ce8",
   "metadata": {},
   "source": [
    "### While Loop"
   ]
  },
  {
   "cell_type": "code",
   "execution_count": 14,
   "id": "96f8cf51-d228-441d-ab85-f7e5de0370a4",
   "metadata": {},
   "outputs": [
    {
     "name": "stdout",
     "output_type": "stream",
     "text": [
      "     *\n",
      "    **\n",
      "   ***\n",
      "  ****\n",
      " *****\n",
      "******\n",
      "******\n",
      " *****\n",
      "  ****\n",
      "   ***\n",
      "    **\n",
      "     *\n"
     ]
    }
   ],
   "source": [
    "# Assignemnt - Use the while loop to draw the left side of a diamond-shaped pyramid\n",
    "\n",
    "# Using Counters\n",
    "# Initialize max height and current row of pyramid\n",
    "max_height = 6\n",
    "curr_row = 1\n",
    "\n",
    "# Top/Normal left side Pyramid\n",
    "while curr_row <= max_height:\n",
    "    spaces = ' ' * (max_height - curr_row)\n",
    "    stars = '*' * curr_row\n",
    "    print(spaces + stars)\n",
    "    curr_row += 1\n",
    "\n",
    "curr_row = max_height # Reset counter to max height of pyramid\n",
    "\n",
    "# Bottom/Upside-Down left side Pyramid\n",
    "while curr_row >= 1:\n",
    "    spaces = ' ' * (max_height - curr_row)\n",
    "    stars = '*' * curr_row\n",
    "    print(spaces + stars)\n",
    "    curr_row -= 1"
   ]
  },
  {
   "cell_type": "code",
   "execution_count": 24,
   "id": "40394a0f-437e-4ebd-86ac-b757367f996d",
   "metadata": {},
   "outputs": [
    {
     "name": "stdout",
     "output_type": "stream",
     "text": [
      "     *\n",
      "    ***\n",
      "   *****\n",
      "  *******\n",
      " *********\n",
      "***********\n",
      " *********\n",
      "  *******\n",
      "   *****\n",
      "    ***\n",
      "     *\n"
     ]
    }
   ],
   "source": [
    "# Assignment - Use the while loop to draw a diamond shaped pyramid\n",
    "\n",
    "# Set pyramid maximum width\n",
    "max_width = 6\n",
    "space = max_length -1 # Initialize spaces for the first row\n",
    "\n",
    "# Loop to create the top pyramid\n",
    "while space >=0:\n",
    "    # print spaces then the stars for the current row\n",
    "    print(' ' * space + \"*\" * (2*(max_length - space)-1))\n",
    "    space -=1 # Decrease spaces for next row\n",
    "\n",
    "# Start with 1 space for bottom pyramid\n",
    "space = 1 \n",
    "\n",
    "# Loop to create bottom pyramid\n",
    "while space <= max_length - 1:\n",
    "    # Print spaces followed by stars for the current row\n",
    "    print(' ' * space + \"*\" * (2 * (max_length - space) - 1))\n",
    "    space += 1 # Increase spaces for next row"
   ]
  },
  {
   "cell_type": "code",
   "execution_count": 7,
   "id": "e0150d35-f048-4e2a-859c-356a4290c27f",
   "metadata": {},
   "outputs": [
    {
     "name": "stdin",
     "output_type": "stream",
     "text": [
      "Enter your balance: $  10000\n",
      "Your balance is $10000.0, How much would you like to withdraw?! $ 7000\n"
     ]
    },
    {
     "name": "stdout",
     "output_type": "stream",
     "text": [
      "Transaction is processing\n",
      "------------------------------------------------------------\n",
      "You have successfully withdrawn $7000.0. Your balance is $3000.0\n"
     ]
    },
    {
     "name": "stdin",
     "output_type": "stream",
     "text": [
      "Would you like to perfom a new transaction? (yes/no):  yes\n",
      "Your balance is $3000.0, How much would you like to withdraw?! $ 4000\n"
     ]
    },
    {
     "name": "stdout",
     "output_type": "stream",
     "text": [
      "Insufficient funds! You only have $3000.0 available!\n"
     ]
    },
    {
     "name": "stdin",
     "output_type": "stream",
     "text": [
      "Your balance is $3000.0, Would you like to perfom a new transaction? (yes/no):  no\n"
     ]
    },
    {
     "name": "stdout",
     "output_type": "stream",
     "text": [
      "Thank you for banking with us!\n"
     ]
    }
   ],
   "source": [
    "# Assignment - \n",
    "\n",
    "balance = float(input('Enter your balance: $ '))\n",
    "withdrawal_amount = 0\n",
    "\n",
    "while balance > 0:\n",
    "    # ask for the withdrawal amount\n",
    "    withdrawal_amount = float(input(f'Your balance is ${balance}, How much would you like to withdraw?! $'))\n",
    "    \n",
    "    # check if the amount is > 0 \n",
    "    if withdrawal_amount <= 0:\n",
    "        print('Please enter an amount greater than 0')\n",
    "    \n",
    "    # check if the balance is sufficient\n",
    "    if withdrawal_amount > balance:\n",
    "        print(f'Insufficient funds! You only have ${balance} available!')\n",
    "        new_transaction = input(f'Your balance is ${balance}, Would you like to perfom a new transaction? (yes/no): ').strip().lower()\n",
    "        if new_transaction != 'yes':\n",
    "            print('Thank you for banking with us!')\n",
    "            break\n",
    "        else:\n",
    "            continue\n",
    "    \n",
    "    # Deduct amount from balance\n",
    "    balance -= withdrawal_amount\n",
    "    print('Transaction is processing')\n",
    "    print('---'* 20)\n",
    "    print(f'You have successfully withdrawn ${withdrawal_amount}. Your balance is ${balance}')\n",
    "\n",
    "    # Confirm user further transactions\n",
    "    if balance > 0:\n",
    "        new_transaction = input('Would you like to perfom a new transaction? (yes/no): ').strip().lower()\n",
    "        if new_transaction != 'yes':\n",
    "            print('Thank you for banking with us!')\n",
    "            break\n",
    "    \n",
    "    # check if balance is 0\n",
    "    if balance == 0:\n",
    "        print('Your balance is 0. Thank you for banking with us')\n",
    "        break"
   ]
  },
  {
   "cell_type": "markdown",
   "id": "1f0e6865-13b5-45eb-9864-ea4eafe501b2",
   "metadata": {},
   "source": [
    "### For Loop"
   ]
  },
  {
   "cell_type": "code",
   "execution_count": 31,
   "id": "8b2839ec-436c-42d0-b2e4-f6fbc67e6a02",
   "metadata": {},
   "outputs": [
    {
     "name": "stdout",
     "output_type": "stream",
     "text": [
      "Multiplication 1 Table\n",
      "==============================\n",
      "1 * 1 = 1\n",
      "1 * 2 = 2\n",
      "1 * 3 = 3\n",
      "1 * 4 = 4\n",
      "1 * 5 = 5\n",
      "1 * 6 = 6\n",
      "1 * 7 = 7\n",
      "1 * 8 = 8\n",
      "1 * 9 = 9\n",
      "1 * 10 = 10\n",
      "1 * 11 = 11\n",
      "1 * 12 = 12\n",
      "==============================\n",
      "Multiplication 2 Table\n",
      "==============================\n",
      "2 * 1 = 2\n",
      "2 * 2 = 4\n",
      "2 * 3 = 6\n",
      "2 * 4 = 8\n",
      "2 * 5 = 10\n",
      "2 * 6 = 12\n",
      "2 * 7 = 14\n",
      "2 * 8 = 16\n",
      "2 * 9 = 18\n",
      "2 * 10 = 20\n",
      "2 * 11 = 22\n",
      "2 * 12 = 24\n",
      "==============================\n",
      "Multiplication 3 Table\n",
      "==============================\n",
      "3 * 1 = 3\n",
      "3 * 2 = 6\n",
      "3 * 3 = 9\n",
      "3 * 4 = 12\n",
      "3 * 5 = 15\n",
      "3 * 6 = 18\n",
      "3 * 7 = 21\n",
      "3 * 8 = 24\n",
      "3 * 9 = 27\n",
      "3 * 10 = 30\n",
      "3 * 11 = 33\n",
      "3 * 12 = 36\n",
      "==============================\n",
      "Multiplication 4 Table\n",
      "==============================\n",
      "4 * 1 = 4\n",
      "4 * 2 = 8\n",
      "4 * 3 = 12\n",
      "4 * 4 = 16\n",
      "4 * 5 = 20\n",
      "4 * 6 = 24\n",
      "4 * 7 = 28\n",
      "4 * 8 = 32\n",
      "4 * 9 = 36\n",
      "4 * 10 = 40\n",
      "4 * 11 = 44\n",
      "4 * 12 = 48\n",
      "==============================\n",
      "Multiplication 5 Table\n",
      "==============================\n",
      "5 * 1 = 5\n",
      "5 * 2 = 10\n",
      "5 * 3 = 15\n",
      "5 * 4 = 20\n",
      "5 * 5 = 25\n",
      "5 * 6 = 30\n",
      "5 * 7 = 35\n",
      "5 * 8 = 40\n",
      "5 * 9 = 45\n",
      "5 * 10 = 50\n",
      "5 * 11 = 55\n",
      "5 * 12 = 60\n",
      "==============================\n",
      "Multiplication 6 Table\n",
      "==============================\n",
      "6 * 1 = 6\n",
      "6 * 2 = 12\n",
      "6 * 3 = 18\n",
      "6 * 4 = 24\n",
      "6 * 5 = 30\n",
      "6 * 6 = 36\n",
      "6 * 7 = 42\n",
      "6 * 8 = 48\n",
      "6 * 9 = 54\n",
      "6 * 10 = 60\n",
      "6 * 11 = 66\n",
      "6 * 12 = 72\n",
      "==============================\n",
      "Multiplication 7 Table\n",
      "==============================\n",
      "7 * 1 = 7\n",
      "7 * 2 = 14\n",
      "7 * 3 = 21\n",
      "7 * 4 = 28\n",
      "7 * 5 = 35\n",
      "7 * 6 = 42\n",
      "7 * 7 = 49\n",
      "7 * 8 = 56\n",
      "7 * 9 = 63\n",
      "7 * 10 = 70\n",
      "7 * 11 = 77\n",
      "7 * 12 = 84\n",
      "==============================\n",
      "Multiplication 8 Table\n",
      "==============================\n",
      "8 * 1 = 8\n",
      "8 * 2 = 16\n",
      "8 * 3 = 24\n",
      "8 * 4 = 32\n",
      "8 * 5 = 40\n",
      "8 * 6 = 48\n",
      "8 * 7 = 56\n",
      "8 * 8 = 64\n",
      "8 * 9 = 72\n",
      "8 * 10 = 80\n",
      "8 * 11 = 88\n",
      "8 * 12 = 96\n",
      "==============================\n",
      "Multiplication 9 Table\n",
      "==============================\n",
      "9 * 1 = 9\n",
      "9 * 2 = 18\n",
      "9 * 3 = 27\n",
      "9 * 4 = 36\n",
      "9 * 5 = 45\n",
      "9 * 6 = 54\n",
      "9 * 7 = 63\n",
      "9 * 8 = 72\n",
      "9 * 9 = 81\n",
      "9 * 10 = 90\n",
      "9 * 11 = 99\n",
      "9 * 12 = 108\n",
      "==============================\n",
      "Multiplication 10 Table\n",
      "==============================\n",
      "10 * 1 = 10\n",
      "10 * 2 = 20\n",
      "10 * 3 = 30\n",
      "10 * 4 = 40\n",
      "10 * 5 = 50\n",
      "10 * 6 = 60\n",
      "10 * 7 = 70\n",
      "10 * 8 = 80\n",
      "10 * 9 = 90\n",
      "10 * 10 = 100\n",
      "10 * 11 = 110\n",
      "10 * 12 = 120\n",
      "==============================\n",
      "Multiplication 11 Table\n",
      "==============================\n",
      "11 * 1 = 11\n",
      "11 * 2 = 22\n",
      "11 * 3 = 33\n",
      "11 * 4 = 44\n",
      "11 * 5 = 55\n",
      "11 * 6 = 66\n",
      "11 * 7 = 77\n",
      "11 * 8 = 88\n",
      "11 * 9 = 99\n",
      "11 * 10 = 110\n",
      "11 * 11 = 121\n",
      "11 * 12 = 132\n",
      "==============================\n",
      "Multiplication 12 Table\n",
      "==============================\n",
      "12 * 1 = 12\n",
      "12 * 2 = 24\n",
      "12 * 3 = 36\n",
      "12 * 4 = 48\n",
      "12 * 5 = 60\n",
      "12 * 6 = 72\n",
      "12 * 7 = 84\n",
      "12 * 8 = 96\n",
      "12 * 9 = 108\n",
      "12 * 10 = 120\n",
      "12 * 11 = 132\n",
      "12 * 12 = 144\n",
      "==============================\n"
     ]
    }
   ],
   "source": [
    "# Assignment - Write the multiplication table 1 to 12 give the heading for each table\n",
    "\n",
    "# Loop over tables from 1 to 12\n",
    "for i in range(1, 13):\n",
    "    print(f'Multiplication {i} Table')  # Title for each table\n",
    "    print('===' * 10)\n",
    "    for j in range(1, 13):  # Loop for the times 1 to 12 for the current table\n",
    "        print(f'{i} * {j} = {i * j}')  # Print the result of the multiplication\n",
    "    print('===' * 10)"
   ]
  },
  {
   "cell_type": "code",
   "execution_count": null,
   "id": "408377b0-ce34-4eaa-9692-9018ac969779",
   "metadata": {},
   "outputs": [],
   "source": []
  }
 ],
 "metadata": {
  "kernelspec": {
   "display_name": "Python 3 (ipykernel)",
   "language": "python",
   "name": "python3"
  },
  "language_info": {
   "codemirror_mode": {
    "name": "ipython",
    "version": 3
   },
   "file_extension": ".py",
   "mimetype": "text/x-python",
   "name": "python",
   "nbconvert_exporter": "python",
   "pygments_lexer": "ipython3",
   "version": "3.12.7"
  }
 },
 "nbformat": 4,
 "nbformat_minor": 5
}
