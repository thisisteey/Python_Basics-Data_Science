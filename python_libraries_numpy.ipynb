{
 "cells": [
  {
   "cell_type": "markdown",
   "id": "60a5b75d-89e5-47df-a666-0a1795aaf440",
   "metadata": {},
   "source": [
    "# Numpy\n",
    "Numerical Python"
   ]
  },
  {
   "cell_type": "markdown",
   "id": "c351d5dc-d04c-48ba-a04d-5abfe3ef0ff6",
   "metadata": {},
   "source": [
    "Numpy is a fundamental package for scientific computing in Python. It provides support for large multi-dimensional arrays and matrices, along with a collection of mathematical functions to operate on these arrays. Numpy is widely used for numerical computations in various domains - data science, machine learning and engineering.\n",
    "\n",
    "Numpy handles, 1D(vector), 2D, 3D and other high-dimensional arrays."
   ]
  },
  {
   "cell_type": "code",
   "execution_count": 5,
   "id": "71b5983d-f826-4864-a0f1-1604ee6d5abf",
   "metadata": {},
   "outputs": [
    {
     "name": "stdout",
     "output_type": "stream",
     "text": [
      "Requirement already satisfied: numpy in /opt/anaconda3/lib/python3.12/site-packages (1.26.4)\n"
     ]
    }
   ],
   "source": [
    "# installing numpy\n",
    "!pip install numpy"
   ]
  },
  {
   "cell_type": "code",
   "execution_count": 7,
   "id": "2ade8c0f-b743-4602-ab90-ea5d1d825351",
   "metadata": {},
   "outputs": [],
   "source": [
    "# importing numpy\n",
    "import numpy as np"
   ]
  },
  {
   "cell_type": "markdown",
   "id": "40722cb3-d4a0-466d-b791-fa6b8eb9c51e",
   "metadata": {},
   "source": [
    "### Creating Arrays\n",
    "Creating arrays involves using Python's numpy library, which provies a powerful array object called ndarray."
   ]
  },
  {
   "cell_type": "markdown",
   "id": "a1916043-7de8-4216-a03a-6670a5040ab0",
   "metadata": {},
   "source": [
    "- ### Creating Arrays from Lists\n",
    "Arrays can be created directly from Python's list using the numpy array() function."
   ]
  },
  {
   "cell_type": "code",
   "execution_count": 13,
   "id": "6ce0e60a-f991-4fbc-9ec9-1ca1c63f2aa8",
   "metadata": {},
   "outputs": [
    {
     "data": {
      "text/plain": [
       "array([20, 25, 65, 75])"
      ]
     },
     "execution_count": 13,
     "metadata": {},
     "output_type": "execute_result"
    }
   ],
   "source": [
    "# create 1D array(vector)\n",
    "arr1 = np.array([20, 25, 65, 75])\n",
    "arr1"
   ]
  },
  {
   "cell_type": "code",
   "execution_count": 15,
   "id": "a5d80f67-fe42-4129-9044-8d552aa84c48",
   "metadata": {},
   "outputs": [
    {
     "data": {
      "text/plain": [
       "array([2, 4, 6, 9])"
      ]
     },
     "execution_count": 15,
     "metadata": {},
     "output_type": "execute_result"
    }
   ],
   "source": [
    "# converting list to array\n",
    "lst = [2, 4, 6, 9]\n",
    "np.array(lst)"
   ]
  },
  {
   "cell_type": "code",
   "execution_count": 21,
   "id": "71090659-48cf-4484-8160-0f611c3a073f",
   "metadata": {},
   "outputs": [
    {
     "data": {
      "text/plain": [
       "array([[ 2,  4,  6],\n",
       "       [ 3,  5,  9],\n",
       "       [ 8, 11, 10]])"
      ]
     },
     "execution_count": 21,
     "metadata": {},
     "output_type": "execute_result"
    }
   ],
   "source": [
    "# create a 2D array\n",
    "arr2 = np.array([[2, 4, 6],[3, 5, 9],[8, 11, 10]])\n",
    "arr2"
   ]
  },
  {
   "cell_type": "markdown",
   "id": "88f1a68b-59d7-4b4a-a5f6-41de3f172b37",
   "metadata": {},
   "source": [
    "- ### Array Attributes"
   ]
  },
  {
   "cell_type": "code",
   "execution_count": 25,
   "id": "d6ad007a-788a-4240-a47c-fc48326de523",
   "metadata": {},
   "outputs": [
    {
     "data": {
      "text/plain": [
       "(4,)"
      ]
     },
     "execution_count": 25,
     "metadata": {},
     "output_type": "execute_result"
    }
   ],
   "source": [
    "# Get the shape of the array\n",
    "arr1.shape"
   ]
  },
  {
   "cell_type": "code",
   "execution_count": 27,
   "id": "114601cc-51ac-456c-9fc2-47cf507928d1",
   "metadata": {},
   "outputs": [
    {
     "data": {
      "text/plain": [
       "(3, 3)"
      ]
     },
     "execution_count": 27,
     "metadata": {},
     "output_type": "execute_result"
    }
   ],
   "source": [
    "arr2.shape"
   ]
  },
  {
   "cell_type": "code",
   "execution_count": 29,
   "id": "de71ba58-5b41-470c-b6fc-940292aa2ce7",
   "metadata": {},
   "outputs": [
    {
     "data": {
      "text/plain": [
       "4"
      ]
     },
     "execution_count": 29,
     "metadata": {},
     "output_type": "execute_result"
    }
   ],
   "source": [
    "# get the size of the array (number of elements)\n",
    "arr1.size"
   ]
  },
  {
   "cell_type": "code",
   "execution_count": 31,
   "id": "61665dbe-3ed6-41d5-ac7c-93600eab8462",
   "metadata": {},
   "outputs": [
    {
     "data": {
      "text/plain": [
       "9"
      ]
     },
     "execution_count": 31,
     "metadata": {},
     "output_type": "execute_result"
    }
   ],
   "source": [
    "arr2.size"
   ]
  },
  {
   "cell_type": "code",
   "execution_count": 33,
   "id": "47b76b02-747a-4baf-906b-c3f63668276a",
   "metadata": {},
   "outputs": [
    {
     "data": {
      "text/plain": [
       "1"
      ]
     },
     "execution_count": 33,
     "metadata": {},
     "output_type": "execute_result"
    }
   ],
   "source": [
    "# get the dimension of the array\n",
    "arr1.ndim"
   ]
  },
  {
   "cell_type": "code",
   "execution_count": 35,
   "id": "33ed4c81-58ac-4e00-88b5-227ca3fe6f41",
   "metadata": {},
   "outputs": [
    {
     "data": {
      "text/plain": [
       "2"
      ]
     },
     "execution_count": 35,
     "metadata": {},
     "output_type": "execute_result"
    }
   ],
   "source": [
    "arr2.ndim"
   ]
  },
  {
   "cell_type": "markdown",
   "id": "2f7e659b-3556-4463-937a-84b922552d5a",
   "metadata": {},
   "source": [
    "- ### Creating Arrays Using Built-in Functions"
   ]
  },
  {
   "cell_type": "code",
   "execution_count": 39,
   "id": "16dab88c-9092-4ef7-a4cd-6be6750162f7",
   "metadata": {},
   "outputs": [
    {
     "data": {
      "text/plain": [
       "array([[0., 0., 0.],\n",
       "       [0., 0., 0.],\n",
       "       [0., 0., 0.]])"
      ]
     },
     "execution_count": 39,
     "metadata": {},
     "output_type": "execute_result"
    }
   ],
   "source": [
    "# creating an array filled with zero (0) as element\n",
    "np.zeros((3, 3))"
   ]
  },
  {
   "cell_type": "code",
   "execution_count": 41,
   "id": "3664b2bb-6d40-4f27-b724-f1060aedcd0e",
   "metadata": {},
   "outputs": [
    {
     "data": {
      "text/plain": [
       "array([[1., 1., 1., 1.],\n",
       "       [1., 1., 1., 1.],\n",
       "       [1., 1., 1., 1.],\n",
       "       [1., 1., 1., 1.]])"
      ]
     },
     "execution_count": 41,
     "metadata": {},
     "output_type": "execute_result"
    }
   ],
   "source": [
    "# array filled with one (1) as element\n",
    "np.ones((4, 4))"
   ]
  },
  {
   "cell_type": "code",
   "execution_count": 45,
   "id": "9fa66cd4-22b7-499b-9709-caff055a570c",
   "metadata": {},
   "outputs": [
    {
     "data": {
      "text/plain": [
       "array([[1., 0., 0., 0.],\n",
       "       [0., 1., 0., 0.],\n",
       "       [0., 0., 1., 0.],\n",
       "       [0., 0., 0., 1.]])"
      ]
     },
     "execution_count": 45,
     "metadata": {},
     "output_type": "execute_result"
    }
   ],
   "source": [
    "# identity matrix - Diagonal numbers are 1 other elements 0\n",
    "np.eye(4, 4)"
   ]
  },
  {
   "cell_type": "markdown",
   "id": "6bc62d20-648b-4b73-8cca-be2b26431298",
   "metadata": {},
   "source": [
    "- ### Creating Arrays using Random Functions"
   ]
  },
  {
   "cell_type": "code",
   "execution_count": 48,
   "id": "2517c704-bba1-4dea-bafa-b55437d41ea0",
   "metadata": {},
   "outputs": [
    {
     "data": {
      "text/plain": [
       "array([0.31405117, 0.98757984, 0.31156205, 0.40576072, 0.34307881])"
      ]
     },
     "execution_count": 48,
     "metadata": {},
     "output_type": "execute_result"
    }
   ],
   "source": [
    "# create arrarys of floats using random function\n",
    "# NOTE: number is between 0 and 1\n",
    "np.random.random(5)"
   ]
  },
  {
   "cell_type": "code",
   "execution_count": 50,
   "id": "6f604647-6396-4e3e-ad32-f2f4858abf92",
   "metadata": {},
   "outputs": [
    {
     "data": {
      "text/plain": [
       "array([0.47862888, 0.31955917, 0.86666555, 0.01753239, 0.40413546])"
      ]
     },
     "execution_count": 50,
     "metadata": {},
     "output_type": "execute_result"
    }
   ],
   "source": [
    "# rand performs the same fucntion as random but only for 1D array\n",
    "np.random.rand(5)"
   ]
  },
  {
   "cell_type": "code",
   "execution_count": 54,
   "id": "7adea325-531a-4393-9757-1be74c614861",
   "metadata": {},
   "outputs": [
    {
     "data": {
      "text/plain": [
       "array([[0.94965697, 0.56941659, 0.46537855, 0.56353067],\n",
       "       [0.56463923, 0.8753753 , 0.90262379, 0.67473889],\n",
       "       [0.6872954 , 0.25144191, 0.62622963, 0.05598815]])"
      ]
     },
     "execution_count": 54,
     "metadata": {},
     "output_type": "execute_result"
    }
   ],
   "source": [
    "# random can be used for arrays of different dimensions\n",
    "np.random.random((3, 4))"
   ]
  },
  {
   "cell_type": "code",
   "execution_count": 56,
   "id": "a0ea0e2c-8e92-41c5-8874-cd791edab607",
   "metadata": {},
   "outputs": [
    {
     "data": {
      "text/plain": [
       "array([[3, 6, 5],\n",
       "       [1, 5, 9],\n",
       "       [1, 1, 4]])"
      ]
     },
     "execution_count": 56,
     "metadata": {},
     "output_type": "execute_result"
    }
   ],
   "source": [
    "# used to generate random integers within a certain range\n",
    "np.random.randint(1, 10, (3, 3))"
   ]
  },
  {
   "cell_type": "markdown",
   "id": "3ee4fc1d-920f-4ff1-a0c5-a1dbeedda7ce",
   "metadata": {},
   "source": [
    "- ### Seed Reproducibility\n",
    "It is used to replicate a random number. Hence, setting the same seed value ensures identical output."
   ]
  },
  {
   "cell_type": "code",
   "execution_count": 61,
   "id": "979e217c-402a-4d9b-bee2-ba618465ce2a",
   "metadata": {},
   "outputs": [
    {
     "data": {
      "text/plain": [
       "array([[ 5, 63, 91, 16, 62],\n",
       "       [24, 45, 51,  9, 29],\n",
       "       [ 5, 90, 32, 70,  2],\n",
       "       [40,  4, 89, 56,  4]])"
      ]
     },
     "execution_count": 61,
     "metadata": {},
     "output_type": "execute_result"
    }
   ],
   "source": [
    "np.random.seed(25)\n",
    "np.random.randint(1, 100, (4, 5))"
   ]
  },
  {
   "cell_type": "markdown",
   "id": "223a0d5b-8348-450b-b626-dc6040938983",
   "metadata": {},
   "source": [
    "- ### Basic Array Operations"
   ]
  },
  {
   "cell_type": "code",
   "execution_count": 64,
   "id": "0a089b16-e65a-4e8f-96f9-0adcc982eff2",
   "metadata": {},
   "outputs": [
    {
     "data": {
      "text/plain": [
       "array([20, 25, 65, 75])"
      ]
     },
     "execution_count": 64,
     "metadata": {},
     "output_type": "execute_result"
    }
   ],
   "source": [
    "arr1"
   ]
  },
  {
   "cell_type": "code",
   "execution_count": 66,
   "id": "7e44e121-e2c5-4d52-9a33-01cdb1f715ab",
   "metadata": {},
   "outputs": [
    {
     "data": {
      "text/plain": [
       "array([40, 45, 85, 95])"
      ]
     },
     "execution_count": 66,
     "metadata": {},
     "output_type": "execute_result"
    }
   ],
   "source": [
    "# Adding to an array - Broadscating\n",
    "# Adds to each element in the array\n",
    "arr1 + 20"
   ]
  },
  {
   "cell_type": "code",
   "execution_count": 68,
   "id": "b5c8a6e8-6321-404e-a258-f270a8294948",
   "metadata": {},
   "outputs": [],
   "source": [
    "arr3 = np.array([12, 14, 16, 28])"
   ]
  },
  {
   "cell_type": "code",
   "execution_count": 70,
   "id": "58fedc41-c190-40eb-b0bb-5b80f614391a",
   "metadata": {},
   "outputs": [
    {
     "data": {
      "text/plain": [
       "array([ 32,  39,  81, 103])"
      ]
     },
     "execution_count": 70,
     "metadata": {},
     "output_type": "execute_result"
    }
   ],
   "source": [
    "arr1 + arr3"
   ]
  },
  {
   "cell_type": "code",
   "execution_count": 72,
   "id": "9800fe5d-8253-45e8-b09e-48b6b9cce007",
   "metadata": {},
   "outputs": [
    {
     "data": {
      "text/plain": [
       "array([ 240,  350, 1040, 2100])"
      ]
     },
     "execution_count": 72,
     "metadata": {},
     "output_type": "execute_result"
    }
   ],
   "source": [
    "# multiplication of arrays\n",
    "arr1 * arr3"
   ]
  },
  {
   "cell_type": "code",
   "execution_count": 74,
   "id": "b8883e09-1a35-49fb-9dd5-a180d567ef06",
   "metadata": {},
   "outputs": [
    {
     "data": {
      "text/plain": [
       "array([[ 1. ,  2. ,  3. ,  4. ],\n",
       "       [10. , 11. , 12. , 13. ],\n",
       "       [ 0.2,  1.1,  1.8,  2.6]])"
      ]
     },
     "execution_count": 74,
     "metadata": {},
     "output_type": "execute_result"
    }
   ],
   "source": [
    "arr4 = np.array([[1, 2, 3, 4], [10, 11, 12, 13], [0.2, 1.1, 1.8, 2.6]])\n",
    "arr4"
   ]
  },
  {
   "cell_type": "code",
   "execution_count": 76,
   "id": "3f75e2df-a511-4282-90e3-5636c8166370",
   "metadata": {},
   "outputs": [],
   "source": [
    "row = [3, 4, 6, 8]"
   ]
  },
  {
   "cell_type": "code",
   "execution_count": 78,
   "id": "b5464369-1b5f-46c4-881e-3abd3f198ba6",
   "metadata": {},
   "outputs": [
    {
     "data": {
      "text/plain": [
       "array([[ 4. ,  6. ,  9. , 12. ],\n",
       "       [13. , 15. , 18. , 21. ],\n",
       "       [ 3.2,  5.1,  7.8, 10.6]])"
      ]
     },
     "execution_count": 78,
     "metadata": {},
     "output_type": "execute_result"
    }
   ],
   "source": [
    "arr4 + row"
   ]
  },
  {
   "cell_type": "markdown",
   "id": "ad9feb1a-0161-44e5-a5d7-c5ea3f11851b",
   "metadata": {},
   "source": [
    "- ### Array Indexing and Slicing\n",
    "Array indexing and slicing in NumPy are powerful tools for accessing and manipulating subsets of data in arrays."
   ]
  },
  {
   "cell_type": "code",
   "execution_count": 84,
   "id": "8c9d1f00-f434-40ab-b700-506f042a229e",
   "metadata": {},
   "outputs": [
    {
     "data": {
      "text/plain": [
       "array([20, 25, 65, 75])"
      ]
     },
     "execution_count": 84,
     "metadata": {},
     "output_type": "execute_result"
    }
   ],
   "source": [
    "arr1"
   ]
  },
  {
   "cell_type": "code",
   "execution_count": 86,
   "id": "84ad9ff3-afd7-4c00-ab71-d6df6b8df6c8",
   "metadata": {},
   "outputs": [
    {
     "data": {
      "text/plain": [
       "65"
      ]
     },
     "execution_count": 86,
     "metadata": {},
     "output_type": "execute_result"
    }
   ],
   "source": [
    "# indexing\n",
    "arr1[2]"
   ]
  },
  {
   "cell_type": "code",
   "execution_count": 88,
   "id": "10f7cbac-687f-455d-ac16-deba7b889378",
   "metadata": {},
   "outputs": [
    {
     "data": {
      "text/plain": [
       "array([25, 65])"
      ]
     },
     "execution_count": 88,
     "metadata": {},
     "output_type": "execute_result"
    }
   ],
   "source": [
    "# slicing in array\n",
    "arr1[1:3]"
   ]
  },
  {
   "cell_type": "code",
   "execution_count": 96,
   "id": "21e0dcec-5617-479d-ae81-409fba8bc8db",
   "metadata": {},
   "outputs": [
    {
     "data": {
      "text/plain": [
       "array([[ 1. ,  2. ,  3. ,  4. ],\n",
       "       [10. , 11. , 12. , 13. ],\n",
       "       [ 0.2,  1.1,  1.8,  2.6]])"
      ]
     },
     "execution_count": 96,
     "metadata": {},
     "output_type": "execute_result"
    }
   ],
   "source": [
    "arr4"
   ]
  },
  {
   "cell_type": "code",
   "execution_count": 100,
   "id": "b3256796-718a-4e60-9b3f-d53a7bcf84f8",
   "metadata": {},
   "outputs": [
    {
     "data": {
      "text/plain": [
       "array([1., 2., 3., 4.])"
      ]
     },
     "execution_count": 100,
     "metadata": {},
     "output_type": "execute_result"
    }
   ],
   "source": [
    "# Getting the first row and all the columns\n",
    "arr4[0, :]"
   ]
  },
  {
   "cell_type": "code",
   "execution_count": 102,
   "id": "35dac6ae-5e6e-44d3-b963-4978ba6475ca",
   "metadata": {},
   "outputs": [
    {
     "data": {
      "text/plain": [
       "array([[ 1.,  2.,  3.,  4.],\n",
       "       [10., 11., 12., 13.]])"
      ]
     },
     "execution_count": 102,
     "metadata": {},
     "output_type": "execute_result"
    }
   ],
   "source": [
    "# Getting first and second row with all the columns\n",
    "arr4[0:2, :]"
   ]
  },
  {
   "cell_type": "markdown",
   "id": "74351d12-1d81-4a13-a79a-8d04c62efd09",
   "metadata": {},
   "source": [
    "- ### Modifying\n",
    "This involves changing elements in a array."
   ]
  },
  {
   "cell_type": "code",
   "execution_count": 106,
   "id": "f561e643-1e52-4a24-94d0-4ae81164a5ec",
   "metadata": {},
   "outputs": [
    {
     "data": {
      "text/plain": [
       "array([20, 25, 65, 75])"
      ]
     },
     "execution_count": 106,
     "metadata": {},
     "output_type": "execute_result"
    }
   ],
   "source": [
    "arr1"
   ]
  },
  {
   "cell_type": "code",
   "execution_count": 110,
   "id": "c700f7fa-ebac-4ce2-8158-0bb4fa3750df",
   "metadata": {},
   "outputs": [
    {
     "data": {
      "text/plain": [
       "array([20, 60, 65, 75])"
      ]
     },
     "execution_count": 110,
     "metadata": {},
     "output_type": "execute_result"
    }
   ],
   "source": [
    "arr1[1] = 60\n",
    "arr1"
   ]
  },
  {
   "cell_type": "markdown",
   "id": "4072f5b7-c9fb-459f-b9fb-9d959c5204f0",
   "metadata": {},
   "source": [
    "- ### Array Manipulation\n",
    "Array manipulation in NumPy refers to modifying arrays to fit desired shapes, sizes, or structures. This includes operations like reshaping, flattening, transposing, and concatenating arrays, among others."
   ]
  },
  {
   "cell_type": "markdown",
   "id": "39d6509d-ccef-4bab-802c-f0abd75bf4b6",
   "metadata": {},
   "source": [
    "- ##### Reshaping\n",
    "Reshaping involves changing the shape (dimensions) of an array without altering its data. The total number of elements must remain the same."
   ]
  },
  {
   "cell_type": "code",
   "execution_count": 122,
   "id": "e26ca303-586a-4049-8347-261ec6615f7d",
   "metadata": {},
   "outputs": [],
   "source": [
    "aray = np.array([0, 1, 2, 3, 4, 5, 6, 7, 8, 9])"
   ]
  },
  {
   "cell_type": "code",
   "execution_count": 126,
   "id": "fc765640-0d9e-4a15-9902-18f822373942",
   "metadata": {},
   "outputs": [
    {
     "data": {
      "text/plain": [
       "array([[0, 1, 2, 3, 4],\n",
       "       [5, 6, 7, 8, 9]])"
      ]
     },
     "execution_count": 126,
     "metadata": {},
     "output_type": "execute_result"
    }
   ],
   "source": [
    "# reshaping\n",
    "reshp_aray = aray.reshape(2, 5)\n",
    "reshp_aray"
   ]
  },
  {
   "cell_type": "markdown",
   "id": "371fdc17-653b-47a3-94f7-83917aa085a0",
   "metadata": {},
   "source": [
    "- ##### Transposing\n",
    "Transposing flips an array's axes. For example, rows become columns, and vice versa. This is especially useful for matrix operations and reshaping multi-dimensional data."
   ]
  },
  {
   "cell_type": "code",
   "execution_count": 129,
   "id": "ab1c8001-08c0-4f46-ae3a-77b217f625e7",
   "metadata": {},
   "outputs": [
    {
     "data": {
      "text/plain": [
       "array([[0, 5],\n",
       "       [1, 6],\n",
       "       [2, 7],\n",
       "       [3, 8],\n",
       "       [4, 9]])"
      ]
     },
     "execution_count": 129,
     "metadata": {},
     "output_type": "execute_result"
    }
   ],
   "source": [
    "# transposing\n",
    "reshp_aray.T"
   ]
  },
  {
   "cell_type": "markdown",
   "id": "1ca4e86f-4fc3-4702-9740-7a4f5d5c6587",
   "metadata": {},
   "source": [
    "- ##### Flattening\n",
    "Flattening reduces a multi-dimensional array to a 1D array. This operation is commonly used when you need to perform operations that require a single sequence of elements."
   ]
  },
  {
   "cell_type": "code",
   "execution_count": 132,
   "id": "7663d5bb-53c5-47bb-adf0-2b77706594e0",
   "metadata": {},
   "outputs": [
    {
     "data": {
      "text/plain": [
       "array([0, 1, 2, 3, 4, 5, 6, 7, 8, 9])"
      ]
     },
     "execution_count": 132,
     "metadata": {},
     "output_type": "execute_result"
    }
   ],
   "source": [
    "# flattening\n",
    "reshp_aray.flatten()"
   ]
  },
  {
   "cell_type": "markdown",
   "id": "6dab8feb-9b66-44c7-a9aa-08b5d36e8dd6",
   "metadata": {},
   "source": [
    "- ##### Splitting\n",
    "Array Splitting in NumPy refers to dividing an array into multiple subarrays. This is useful when you need to process or analyze parts of an array independently.\n",
    "\n",
    "Splitting Methods in NumPy\n",
    "- `np.split`: General-purpose splitting based on specified indices.\n",
    "- `np.array_split`: Allows uneven splitting.\n",
    "- `np.hsplit`: Splits along columns (horizontal split for 2D arrays).\n",
    "- `np.vsplit`: Splits along rows (vertical split for 2D arrays).\n",
    "- `np.dsplit`: Splits along the depth (third axis) for 3D arrays."
   ]
  },
  {
   "cell_type": "code",
   "execution_count": 136,
   "id": "fc925eee-040f-4e68-92ca-9bf387525e97",
   "metadata": {},
   "outputs": [
    {
     "data": {
      "text/plain": [
       "[array([0, 1]), array([2, 3]), array([4, 5]), array([6, 7]), array([8, 9])]"
      ]
     },
     "execution_count": 136,
     "metadata": {},
     "output_type": "execute_result"
    }
   ],
   "source": [
    "# general spliting\n",
    "np.split(aray, 5)"
   ]
  },
  {
   "cell_type": "markdown",
   "id": "04cb2891-c711-4daa-8fd2-4eeb327ba070",
   "metadata": {},
   "source": [
    "- ##### Concatenating\n",
    "In NumPy, concatenation refers to joining two or more arrays along a specified axis. The arrays must have compatible shapes along the axis being concatenated."
   ]
  },
  {
   "cell_type": "code",
   "execution_count": 139,
   "id": "baed418d-e684-4252-ad64-85376c4b11c9",
   "metadata": {},
   "outputs": [
    {
     "data": {
      "text/plain": [
       "array([2, 4, 6, 7])"
      ]
     },
     "execution_count": 139,
     "metadata": {},
     "output_type": "execute_result"
    }
   ],
   "source": [
    "ary = np.array([2, 4, 6, 7])\n",
    "ary"
   ]
  },
  {
   "cell_type": "code",
   "execution_count": 141,
   "id": "85b9636f-d310-4cc2-924f-ca958ead6e00",
   "metadata": {},
   "outputs": [
    {
     "data": {
      "text/plain": [
       "array([3, 5, 8, 9])"
      ]
     },
     "execution_count": 141,
     "metadata": {},
     "output_type": "execute_result"
    }
   ],
   "source": [
    "rya = np.array([3, 5, 8, 9])\n",
    "rya"
   ]
  },
  {
   "cell_type": "code",
   "execution_count": 143,
   "id": "2589368d-04ab-4af2-91d6-4ea7fd3ec4b2",
   "metadata": {},
   "outputs": [
    {
     "data": {
      "text/plain": [
       "array([2, 4, 6, 7, 3, 5, 8, 9])"
      ]
     },
     "execution_count": 143,
     "metadata": {},
     "output_type": "execute_result"
    }
   ],
   "source": [
    "# concatenating\n",
    "np.concatenate((ary, rya))"
   ]
  },
  {
   "cell_type": "markdown",
   "id": "6342f4f2-0f79-4ec5-af64-7a1ed5504844",
   "metadata": {},
   "source": [
    "- ### Mathematical Operations"
   ]
  },
  {
   "cell_type": "code",
   "execution_count": 146,
   "id": "e252dc1e-1ac6-4671-a0aa-20c113a65187",
   "metadata": {},
   "outputs": [
    {
     "data": {
      "text/plain": [
       "array([2, 4, 6, 7])"
      ]
     },
     "execution_count": 146,
     "metadata": {},
     "output_type": "execute_result"
    }
   ],
   "source": [
    "# find the square root of an array\n",
    "ary"
   ]
  },
  {
   "cell_type": "code",
   "execution_count": 148,
   "id": "70e063cb-f74c-499b-841b-545367a32881",
   "metadata": {},
   "outputs": [
    {
     "data": {
      "text/plain": [
       "array([1.41421356, 2.        , 2.44948974, 2.64575131])"
      ]
     },
     "execution_count": 148,
     "metadata": {},
     "output_type": "execute_result"
    }
   ],
   "source": [
    "np.sqrt(ary)"
   ]
  },
  {
   "cell_type": "code",
   "execution_count": 150,
   "id": "e09ac30e-beb6-4dae-bc84-99acbc68fc51",
   "metadata": {},
   "outputs": [
    {
     "data": {
      "text/plain": [
       "19"
      ]
     },
     "execution_count": 150,
     "metadata": {},
     "output_type": "execute_result"
    }
   ],
   "source": [
    "# sum of an array\n",
    "ary.sum()"
   ]
  },
  {
   "cell_type": "code",
   "execution_count": null,
   "id": "ff27fc4a-fd4a-4098-904a-29f4dbbe4949",
   "metadata": {},
   "outputs": [],
   "source": []
  }
 ],
 "metadata": {
  "kernelspec": {
   "display_name": "Python 3 (ipykernel)",
   "language": "python",
   "name": "python3"
  },
  "language_info": {
   "codemirror_mode": {
    "name": "ipython",
    "version": 3
   },
   "file_extension": ".py",
   "mimetype": "text/x-python",
   "name": "python",
   "nbconvert_exporter": "python",
   "pygments_lexer": "ipython3",
   "version": "3.12.7"
  }
 },
 "nbformat": 4,
 "nbformat_minor": 5
}
